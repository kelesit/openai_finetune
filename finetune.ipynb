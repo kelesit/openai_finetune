{
 "cells": [
  {
   "cell_type": "markdown",
   "metadata": {},
   "source": [
    "# Upload a training file"
   ]
  },
  {
   "cell_type": "code",
   "execution_count": 3,
   "metadata": {},
   "outputs": [
    {
     "data": {
      "text/plain": [
       "FileObject(id='file-c3mUDtFLArm6II0HkJnwdkZd', bytes=5524, created_at=1720005473, filename='train.jsonl', object='file', purpose='fine-tune', status='processed', status_details=None)"
      ]
     },
     "execution_count": 3,
     "metadata": {},
     "output_type": "execute_result"
    }
   ],
   "source": [
    "import os\n",
    "from dotenv import load_dotenv\n",
    "\n",
    "from openai import OpenAI\n",
    "\n",
    "load_dotenv()\n",
    "client = OpenAI()\n",
    "\n",
    "client.files.create(\n",
    "  file=open(\"data/train.jsonl\", \"rb\"),\n",
    "  purpose=\"fine-tune\"\n",
    ")"
   ]
  },
  {
   "cell_type": "markdown",
   "metadata": {},
   "source": [
    "### Create a fine-tuned model"
   ]
  },
  {
   "cell_type": "code",
   "execution_count": 7,
   "metadata": {},
   "outputs": [
    {
     "data": {
      "text/plain": [
       "FineTuningJob(id='ftjob-e8uXubgFWvcpNxnmQz4SmfXC', created_at=1720003762, error=Error(code=None, message=None, param=None), fine_tuned_model=None, finished_at=None, hyperparameters=Hyperparameters(n_epochs='auto', batch_size='auto', learning_rate_multiplier='auto'), model='gpt-3.5-turbo-0125', object='fine_tuning.job', organization_id='org-46nm54SkZfsldjgAVIMz9XfX', result_files=[], seed=1190866367, status='validating_files', trained_tokens=None, training_file='file-LzuXDbP1sp303stUPt3ddxvE', validation_file=None, estimated_finish=None, integrations=[], user_provided_suffix=None)"
      ]
     },
     "execution_count": 7,
     "metadata": {},
     "output_type": "execute_result"
    }
   ],
   "source": [
    "client.fine_tuning.jobs.create(\n",
    "  training_file=\"file-LzuXDbP1sp303stUPt3ddxvE\", \n",
    "  model=\"gpt-3.5-turbo\"\n",
    ")"
   ]
  },
  {
   "cell_type": "code",
   "execution_count": 9,
   "metadata": {},
   "outputs": [
    {
     "data": {
      "text/plain": [
       "SyncCursorPage[FineTuningJobEvent](data=[FineTuningJobEvent(id='ftevent-hoYyfS1dlaRy1kk0KzxyH1Lg', created_at=1720003960, level='info', message='Step 41/99: training loss=0.33', object='fine_tuning.job.event', data={'step': 41, 'train_loss': 0.32764625549316406, 'total_steps': 99, 'train_mean_token_accuracy': 0.8684210777282715}, type='metrics'), FineTuningJobEvent(id='ftevent-YMsMNJ9I3ju2k2wbAyvqCrJG', created_at=1720003958, level='info', message='Step 40/99: training loss=0.18', object='fine_tuning.job.event', data={'step': 40, 'train_loss': 0.17906267940998077, 'total_steps': 99, 'train_mean_token_accuracy': 0.9743589758872986}, type='metrics'), FineTuningJobEvent(id='ftevent-W9NHf8N8x2GiBIrlWBy1rjNv', created_at=1720003956, level='info', message='Step 39/99: training loss=0.00', object='fine_tuning.job.event', data={'step': 39, 'train_loss': 0.004266641102731228, 'total_steps': 99, 'train_mean_token_accuracy': 1.0}, type='metrics'), FineTuningJobEvent(id='ftevent-EzQLMV6dp8T4Hh3Uf0RgoW54', created_at=1720003956, level='info', message='Step 38/99: training loss=0.05', object='fine_tuning.job.event', data={'step': 38, 'train_loss': 0.05139169842004776, 'total_steps': 99, 'train_mean_token_accuracy': 0.9750000238418579}, type='metrics'), FineTuningJobEvent(id='ftevent-WvannQ60yGP2xPZ1FF6BJpX7', created_at=1720003954, level='info', message='Step 37/99: training loss=0.33', object='fine_tuning.job.event', data={'step': 37, 'train_loss': 0.3281494677066803, 'total_steps': 99, 'train_mean_token_accuracy': 0.95652174949646}, type='metrics'), FineTuningJobEvent(id='ftevent-WpGT8QuE6g53BV3hbdlmSoHI', created_at=1720003952, level='info', message='Step 36/99: training loss=0.13', object='fine_tuning.job.event', data={'step': 36, 'train_loss': 0.12737572193145752, 'total_steps': 99, 'train_mean_token_accuracy': 0.9743589758872986}, type='metrics'), FineTuningJobEvent(id='ftevent-vcnMr7EntFJQ2HoPCeQQZHep', created_at=1720003950, level='info', message='Step 35/99: training loss=0.09', object='fine_tuning.job.event', data={'step': 35, 'train_loss': 0.09429838508367538, 'total_steps': 99, 'train_mean_token_accuracy': 0.9756097793579102}, type='metrics'), FineTuningJobEvent(id='ftevent-3ZtfqR5THVeNTctgfpl0Vgdw', created_at=1720003948, level='info', message='Step 34/99: training loss=0.01', object='fine_tuning.job.event', data={'step': 34, 'train_loss': 0.011823463253676891, 'total_steps': 99, 'train_mean_token_accuracy': 1.0}, type='metrics'), FineTuningJobEvent(id='ftevent-O6ipQTM8dvWO9S96aJogf1HC', created_at=1720003948, level='info', message='Step 33/99: training loss=0.15', object='fine_tuning.job.event', data={'step': 33, 'train_loss': 0.15177951753139496, 'total_steps': 99, 'train_mean_token_accuracy': 0.9743589758872986}, type='metrics'), FineTuningJobEvent(id='ftevent-fbSsKM0DUDq7kZuATiawKABq', created_at=1720003946, level='info', message='Step 32/99: training loss=0.03', object='fine_tuning.job.event', data={'step': 32, 'train_loss': 0.03290165960788727, 'total_steps': 99, 'train_mean_token_accuracy': 0.9729729890823364}, type='metrics')], object='list', has_more=True)"
      ]
     },
     "execution_count": 9,
     "metadata": {},
     "output_type": "execute_result"
    }
   ],
   "source": [
    "# List 10 fine-tuning jobs\n",
    "client.fine_tuning.jobs.list(limit=10)\n",
    "\n",
    "# Retrieve the state of a fine-tune\n",
    "client.fine_tuning.jobs.retrieve(\"ftjob-e8uXubgFWvcpNxnmQz4SmfXC\")\n",
    "\n",
    "# List up to 10 events from a fine-tuning job\n",
    "client.fine_tuning.jobs.list_events(fine_tuning_job_id=\"ftjob-e8uXubgFWvcpNxnmQz4SmfXC\", limit=10)\n"
   ]
  },
  {
   "cell_type": "markdown",
   "metadata": {},
   "source": [
    "### Use a fine-tuned model"
   ]
  },
  {
   "cell_type": "code",
   "execution_count": 4,
   "metadata": {},
   "outputs": [
    {
     "name": "stdout",
     "output_type": "stream",
     "text": [
      "ChatCompletionMessage(content='{\"Size\": \"17.7\\\\\"L x 13.8\\\\\"W x 19.7\\\\\"H\", \"Color\": \"Natural\", \"notes\": \"null\"}', role='assistant', function_call=None, tool_calls=None)\n"
     ]
    }
   ],
   "source": [
    "completion = client.chat.completions.create(\n",
    "  model=\"ft:gpt-3.5-turbo-0125:personal::9gruvYXE\",\n",
    "  messages=[\n",
    "    {\"role\": \"system\", \"content\": \"Given a batch of Chinese product models, please provide the product model , provide the following fields in English in a JSON dict, where applicable, Some of it can be inferred based on common sense: \\\"Size\\\" (inch), \\\"Color\\\", \\\"notes\\\".\"},\n",
    "    {\"role\": \"user\", \"content\": \"北欧实木床头柜小户型卧室时尚中古床边柜家用创意带抽屉储物柜 松木：45*35*50cm\"}\n",
    "  ]\n",
    ")\n",
    "print(completion.choices[0].message)"
   ]
  },
  {
   "cell_type": "code",
   "execution_count": 15,
   "metadata": {},
   "outputs": [
    {
     "name": "stdout",
     "output_type": "stream",
     "text": [
      "{\"Size\": \"17.7\\\"L x 13.8\\\"W x 19.7\\\"H\", \"Color\": \"Natural\", \"notes\": \"Without Handles\"}\n"
     ]
    }
   ],
   "source": [
    "print(completion.choices[0].message.content)"
   ]
  },
  {
   "cell_type": "code",
   "execution_count": 9,
   "metadata": {},
   "outputs": [
    {
     "name": "stdout",
     "output_type": "stream",
     "text": [
      "{'Size': '17.7\"L x 13.8\"W x 19.7\"H', 'Color': 'Natural', 'notes': 'null'}\n",
      "Result saved to completion_result.json\n"
     ]
    }
   ],
   "source": [
    "import json\n",
    "result_file = \"completion_result.json\"\n",
    "content_json_str = completion.choices[0].message.content\n",
    "content_dict = json.loads(content_json_str)  # 解析 JSON 字符串为字典\n",
    "\n",
    "print(content_dict)\n",
    "\n",
    "with open(result_file, \"w\", encoding=\"utf-8\") as f:\n",
    "    json.dump(content_dict, f, ensure_ascii=False, indent=4)\n",
    "\n",
    "print(f\"Result saved to {result_file}\")"
   ]
  }
 ],
 "metadata": {
  "kernelspec": {
   "display_name": "llm_playground",
   "language": "python",
   "name": "python3"
  },
  "language_info": {
   "codemirror_mode": {
    "name": "ipython",
    "version": 3
   },
   "file_extension": ".py",
   "mimetype": "text/x-python",
   "name": "python",
   "nbconvert_exporter": "python",
   "pygments_lexer": "ipython3",
   "version": "3.12.3"
  }
 },
 "nbformat": 4,
 "nbformat_minor": 2
}
